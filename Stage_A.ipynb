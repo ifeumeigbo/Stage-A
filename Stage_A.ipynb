{
 "cells": [
  {
   "cell_type": "code",
   "execution_count": 1,
   "id": "ef5d7cfe",
   "metadata": {},
   "outputs": [],
   "source": [
    "import pandas as pd\n",
    "import numpy as np"
   ]
  },
  {
   "cell_type": "code",
   "execution_count": 2,
   "id": "0b35671c",
   "metadata": {},
   "outputs": [
    {
     "name": "stdout",
     "output_type": "stream",
     "text": [
      "   Area Code     Area  Item Code         Item  Element Code  \\\n",
      "0          4  Algeria       2501   Population           511   \n",
      "1          4  Algeria       2501   Population          5301   \n",
      "2          4  Algeria       2901  Grand Total           664   \n",
      "3          4  Algeria       2901  Grand Total           674   \n",
      "4          4  Algeria       2901  Grand Total           684   \n",
      "\n",
      "                                  Element             Unit     Y2014  \\\n",
      "0           Total Population - Both sexes     1000 persons  38924.00   \n",
      "1                Domestic supply quantity      1000 tonnes      0.00   \n",
      "2           Food supply (kcal/capita/day)  kcal/capita/day   3377.00   \n",
      "3  Protein supply quantity (g/capita/day)     g/capita/day     94.90   \n",
      "4      Fat supply quantity (g/capita/day)     g/capita/day     80.06   \n",
      "\n",
      "      Y2015     Y2016     Y2017     Y2018  \n",
      "0  39728.00  40551.00  41389.00  42228.00  \n",
      "1      0.00      0.00      0.00      0.00  \n",
      "2   3379.00   3372.00   3341.00   3322.00  \n",
      "3     94.35     94.72     92.82     91.83  \n",
      "4     79.36     77.40     80.19     77.28  \n"
     ]
    }
   ],
   "source": [
    "df = pd.read_csv('FoodBalanceSheets_E_Africa_NOFLAG.csv', encoding='latin-1')\n",
    "print(df.head())"
   ]
  },
  {
   "cell_type": "code",
   "execution_count": null,
   "id": "3438fc5f",
   "metadata": {},
   "outputs": [],
   "source": []
  }
 ],
 "metadata": {
  "kernelspec": {
   "display_name": "Python 3 (ipykernel)",
   "language": "python",
   "name": "python3"
  },
  "language_info": {
   "codemirror_mode": {
    "name": "ipython",
    "version": 3
   },
   "file_extension": ".py",
   "mimetype": "text/x-python",
   "name": "python",
   "nbconvert_exporter": "python",
   "pygments_lexer": "ipython3",
   "version": "3.10.9"
  }
 },
 "nbformat": 4,
 "nbformat_minor": 5
}
